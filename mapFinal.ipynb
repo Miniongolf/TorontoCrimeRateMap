{
 "cells": [
  {
   "cell_type": "markdown",
   "metadata": {},
   "source": [
    "## Imports"
   ]
  },
  {
   "cell_type": "code",
   "execution_count": null,
   "metadata": {},
   "outputs": [],
   "source": [
    "import pandas as pd\n",
    "import plotly.express as px\n",
    "\n",
    "# reads the csv file into crimeFile\n",
    "crimeFile = pd.read_csv(\"Neighbourhood_Crime_Rates.csv\")"
   ]
  },
  {
   "cell_type": "markdown",
   "metadata": {},
   "source": [
    "## Data Analysis"
   ]
  },
  {
   "cell_type": "markdown",
   "metadata": {},
   "source": [
    "Selection Lists"
   ]
  },
  {
   "cell_type": "code",
   "execution_count": null,
   "metadata": {},
   "outputs": [],
   "source": [
    "# Lists to select the years and crimes that affect the map.\n",
    "\n",
    "allYears = [2014, 2015, 2016, 2017, 2018, 2019, 2020, 2021]\n",
    "selectedYears = [2014, 2015, 2016, 2017, 2018, 2019, 2020, 2021]\n",
    "\n",
    "allCrimes = [\"Assault\", \"AutoTheft\", \"BreakAndEnter\", \"Robbery\", \"TheftOver\", \"Homicide\", \"Shootings\"]\n",
    "selectedCrimes = [\"Assault\", \"AutoTheft\", \"BreakAndEnter\", \"Robbery\", \"TheftOver\", \"Homicide\", \"Shootings\"]"
   ]
  },
  {
   "cell_type": "markdown",
   "metadata": {},
   "source": [
    "`crime_stats`"
   ]
  },
  {
   "cell_type": "code",
   "execution_count": null,
   "metadata": {},
   "outputs": [],
   "source": [
    "# Creates a DataFrame that only contains the data we need to make our graph.\n",
    "\n",
    "crime_stats = pd.DataFrame()\n",
    "# Includes the neighbourhood IDs (for mapping identification),\n",
    "crime_stats[\"HoodID\"] = crimeFile[\"HoodID\"]\n",
    "# Neighbourhood name (to display on the map on hover),\n",
    "crime_stats[\"HoodName\"] = crimeFile[\"HoodName\"]\n",
    "# Rates for every selected crime for every selected year.\n",
    "for crime in selectedCrimes:\n",
    "    for year in selectedYears:\n",
    "        crime_stats[f\"{crime}_Rate{year}\"] = crimeFile[f\"{crime}_Rate{year}\"]\n"
   ]
  },
  {
   "cell_type": "markdown",
   "metadata": {},
   "source": [
    "Crime totals"
   ]
  },
  {
   "cell_type": "code",
   "execution_count": 50,
   "metadata": {},
   "outputs": [],
   "source": [
    "# Creates list crimeTotals that adds the mean crime rate for every crime type each year for each neighbourhood\n",
    "\n",
    "for crime in selectedCrimes:\n",
    "    crimeTotals = []\n",
    "    # Sets the frame we read as the crimerate of the current crime.\n",
    "    curFrame = crime_stats[[f\"{crime}_Rate{year}\" for year in selectedYears]]\n",
    "    for i in range(140):\n",
    "        sum, count = 0, 0\n",
    "        for year in selectedYears:\n",
    "            # Adds the rate of that crime that year in that neighbourhood to sum.\n",
    "            sum += curFrame[crime + \"_Rate\" + str(year)][i]\n",
    "            count += 1\n",
    "        # Adds the mean rate to crimeTotals\n",
    "        crimeTotals.append(round(sum/count))\n",
    "    # Adds a column in crimeFrames for the crime total\n",
    "    crime_stats[f\"{crime}_Total\"] = pd.DataFrame(crimeTotals)"
   ]
  },
  {
   "cell_type": "markdown",
   "metadata": {},
   "source": [
    "Safety scores"
   ]
  },
  {
   "cell_type": "code",
   "execution_count": 48,
   "metadata": {},
   "outputs": [],
   "source": [
    "# Function to get a score from 1 to 10 based on the crime rate.\n",
    "\n",
    "# A linear relation from a score of 10 at no crime to a score of 0 at the most crime.\n",
    "def getScore(nums):\n",
    "    high = max(nums)\n",
    "    scores = [round(10 - 10*n/high, 1) for n in nums]\n",
    "    return scores\n",
    "\n",
    "# Creates a DataFrame for all the scores\n",
    "totalsList = [0 for i in range(140)]\n",
    "for crime in selectedCrimes:\n",
    "    for i in range(140):\n",
    "        totalsList[i] += crime_stats[f\"{crime}_Total\"][i]\n",
    "scoresFrame = pd.DataFrame(getScore(totalsList), columns=[\"Scores\"])\n",
    "\n",
    "# Adds scoresFrame to crime_stats under column Scores\n",
    "crime_stats[\"Scores\"] = scoresFrame"
   ]
  },
  {
   "cell_type": "markdown",
   "metadata": {},
   "source": [
    "## Plotly Map"
   ]
  },
  {
   "cell_type": "markdown",
   "metadata": {},
   "source": [
    "Plotting map"
   ]
  },
  {
   "cell_type": "code",
   "execution_count": 52,
   "metadata": {},
   "outputs": [
    {
     "data": {
      "application/vnd.plotly.v1+json": {
       "config": {
        "plotlyServerURL": "https://plot.ly"
       },
       "data": [
        {
         "coloraxis": "coloraxis",
         "customdata": [
          [
           8.7,
           223,
           45,
           183,
           25,
           28,
           0,
           1
          ],
          [
           3.9,
           1155,
           426,
           385,
           237,
           127,
           4,
           23
          ],
          [
           7.6,
           439,
           175,
           209,
           76,
           40,
           0,
           5
          ],
          [
           4.3,
           989,
           397,
           413,
           190,
           135,
           6,
           49
          ],
          [
           8.1,
           326,
           141,
           182,
           72,
           24,
           0,
           4
          ],
          [
           8,
           387,
           97,
           193,
           84,
           18,
           3,
           8
          ],
          [
           7.8,
           413,
           84,
           221,
           82,
           31,
           0,
           1
          ],
          [
           7,
           541,
           281,
           156,
           135,
           23,
           0,
           13
          ],
          [
           8.1,
           447,
           55,
           129,
           47,
           27,
           7,
           16
          ],
          [
           8.3,
           363,
           62,
           153,
           37,
           19,
           1,
           3
          ],
          [
           8.2,
           285,
           121,
           216,
           44,
           27,
           2,
           1
          ],
          [
           7,
           459,
           279,
           241,
           83,
           81,
           1,
           7
          ],
          [
           5.5,
           949,
           102,
           382,
           245,
           39,
           1,
           2
          ],
          [
           7.1,
           650,
           163,
           134,
           87,
           17,
           5,
           54
          ],
          [
           6.3,
           929,
           109,
           213,
           129,
           21,
           6,
           18
          ],
          [
           6.1,
           953,
           72,
           286,
           118,
           43,
           2,
           18
          ],
          [
           6,
           785,
           114,
           396,
           147,
           72,
           5,
           14
          ],
          [
           7.7,
           285,
           144,
           365,
           46,
           43,
           2,
           4
          ],
          [
           7,
           684,
           69,
           247,
           129,
           30,
           4,
           11
          ],
          [
           4,
           849,
           708,
           344,
           198,
           148,
           9,
           50
          ],
          [
           6.1,
           731,
           324,
           216,
           144,
           45,
           2,
           30
          ],
          [
           8.5,
           321,
           80,
           113,
           42,
           13,
           1,
           4
          ],
          [
           1.5,
           2047,
           120,
           574,
           411,
           102,
           3,
           6
          ],
          [
           6.1,
           860,
           162,
           303,
           128,
           40,
           3,
           10
          ],
          [
           6.9,
           655,
           111,
           267,
           138,
           27,
           3,
           5
          ],
          [
           7.8,
           610,
           43,
           80,
           71,
           14,
           1,
           32
          ],
          [
           7.2,
           606,
           93,
           202,
           137,
           27,
           2,
           7
          ],
          [
           7.4,
           672,
           51,
           173,
           79,
           15,
           0,
           3
          ],
          [
           6.6,
           693,
           183,
           282,
           101,
           35,
           1,
           4
          ],
          [
           8.1,
           467,
           44,
           156,
           59,
           13,
           2,
           4
          ],
          [
           8.1,
           198,
           187,
           218,
           96,
           32,
           1,
           6
          ],
          [
           7.4,
           407,
           85,
           307,
           166,
           26,
           2,
           8
          ],
          [
           8.1,
           405,
           96,
           123,
           52,
           25,
           7,
           20
          ],
          [
           7.9,
           282,
           158,
           260,
           82,
           22,
           0,
           3
          ],
          [
           6.1,
           923,
           225,
           119,
           143,
           31,
           5,
           67
          ],
          [
           6.7,
           715,
           125,
           283,
           107,
           39,
           7,
           15
          ],
          [
           8.3,
           392,
           47,
           118,
           72,
           13,
           5,
           1
          ],
          [
           6.6,
           688,
           101,
           383,
           104,
           37,
           2,
           10
          ],
          [
           7.4,
           608,
           103,
           197,
           62,
           26,
           2,
           13
          ],
          [
           5.5,
           1116,
           79,
           354,
           106,
           74,
           2,
           14
          ],
          [
           4.8,
           1350,
           125,
           270,
           206,
           23,
           3,
           15
          ],
          [
           3.1,
           793,
           1080,
           364,
           235,
           149,
           5,
           29
          ],
          [
           8.2,
           362,
           122,
           141,
           45,
           18,
           0,
           4
          ],
          [
           5.3,
           1152,
           135,
           235,
           229,
           38,
           3,
           13
          ],
          [
           7.5,
           463,
           232,
           132,
           77,
           22,
           4,
           25
          ],
          [
           8.3,
           269,
           122,
           200,
           27,
           15,
           2,
           8
          ],
          [
           7.3,
           417,
           274,
           259,
           55,
           33,
           1,
           6
          ],
          [
           7.1,
           558,
           185,
           181,
           158,
           23,
           7,
           25
          ],
          [
           6.9,
           726,
           103,
           192,
           97,
           32,
           3,
           24
          ],
          [
           7.7,
           499,
           69,
           178,
           94,
           30,
           1,
           7
          ],
          [
           8,
           364,
           86,
           244,
           45,
           40,
           0,
           0
          ],
          [
           1.1,
           2049,
           163,
           738,
           310,
           133,
           6,
           26
          ],
          [
           7.7,
           275,
           199,
           229,
           140,
           35,
           0,
           0
          ],
          [
           7.6,
           354,
           182,
           216,
           145,
           23,
           0,
           1
          ],
          [
           8.1,
           151,
           195,
           319,
           41,
           42,
           0,
           1
          ],
          [
           8.2,
           393,
           89,
           151,
           35,
           29,
           2,
           13
          ],
          [
           5.7,
           849,
           81,
           471,
           153,
           94,
           1,
           4
          ],
          [
           7.6,
           580,
           77,
           130,
           90,
           20,
           0,
           13
          ],
          [
           8,
           273,
           185,
           183,
           49,
           29,
           5,
           31
          ],
          [
           6.4,
           727,
           104,
           373,
           154,
           36,
           0,
           11
          ],
          [
           2.3,
           1638,
           135,
           774,
           302,
           101,
           3,
           3
          ],
          [
           8,
           332,
           126,
           185,
           89,
           30,
           2,
           2
          ],
          [
           7.1,
           669,
           142,
           138,
           143,
           18,
           7,
           17
          ],
          [
           6.6,
           632,
           209,
           270,
           135,
           31,
           4,
           23
          ],
          [
           8.4,
           170,
           150,
           233,
           27,
           23,
           0,
           6
          ],
          [
           6.8,
           673,
           98,
           283,
           129,
           26,
           3,
           6
          ],
          [
           7,
           628,
           206,
           204,
           92,
           39,
           0,
           4
          ],
          [
           7.2,
           655,
           63,
           256,
           48,
           46,
           2,
           11
          ],
          [
           6,
           900,
           176,
           203,
           185,
           35,
           3,
           27
          ],
          [
           7.9,
           433,
           66,
           194,
           100,
           16,
           1,
           0
          ],
          [
           8.2,
           337,
           80,
           171,
           72,
           27,
           2,
           10
          ],
          [
           7.8,
           405,
           137,
           199,
           96,
           16,
           4,
           7
          ],
          [
           6,
           957,
           89,
           309,
           151,
           35,
           1,
           7
          ],
          [
           5.1,
           1105,
           103,
           371,
           225,
           30,
           2,
           35
          ],
          [
           7.1,
           523,
           131,
           323,
           102,
           43,
           1,
           3
          ],
          [
           7.5,
           560,
           103,
           142,
           115,
           15,
           4,
           26
          ],
          [
           6.2,
           710,
           257,
           308,
           114,
           48,
           3,
           11
          ],
          [
           6.6,
           775,
           105,
           206,
           162,
           21,
           5,
           21
          ],
          [
           7,
           590,
           260,
           111,
           132,
           18,
           3,
           38
          ],
          [
           8.4,
           238,
           117,
           146,
           85,
           15,
           0,
           2
          ],
          [
           7.2,
           473,
           154,
           295,
           98,
           45,
           1,
           10
          ],
          [
           7.8,
           422,
           124,
           173,
           86,
           28,
           1,
           32
          ],
          [
           8.2,
           263,
           187,
           125,
           72,
           20,
           1,
           13
          ],
          [
           8.3,
           364,
           60,
           139,
           82,
           12,
           1,
           14
          ],
          [
           8.3,
           276,
           90,
           215,
           42,
           34,
           0,
           4
          ],
          [
           7.9,
           339,
           192,
           174,
           64,
           21,
           0,
           1
          ],
          [
           8.1,
           277,
           153,
           205,
           56,
           49,
           1,
           3
          ],
          [
           5.4,
           1138,
           89,
           280,
           164,
           42,
           6,
           51
          ],
          [
           6.6,
           741,
           170,
           176,
           180,
           34,
           3,
           14
          ],
          [
           6.9,
           703,
           83,
           282,
           87,
           23,
           1,
           2
          ],
          [
           6.8,
           782,
           129,
           181,
           95,
           28,
           5,
           24
          ],
          [
           5.3,
           1036,
           325,
           218,
           159,
           46,
           4,
           26
          ],
          [
           8.3,
           341,
           109,
           140,
           33,
           15,
           0,
           12
          ],
          [
           0.9,
           2307,
           112,
           556,
           338,
           169,
           7,
           13
          ],
          [
           5.6,
           1034,
           249,
           124,
           172,
           44,
           2,
           56
          ],
          [
           8.3,
           295,
           97,
           147,
           79,
           29,
           0,
           2
          ],
          [
           7.8,
           478,
           105,
           142,
           101,
           34,
           1,
           2
          ],
          [
           8.1,
           354,
           123,
           133,
           70,
           24,
           2,
           10
          ],
          [
           6.8,
           711,
           193,
           82,
           203,
           14,
           5,
           29
          ],
          [
           5.3,
           954,
           91,
           545,
           180,
           41,
           7,
           8
          ],
          [
           8.6,
           220,
           81,
           170,
           47,
           21,
           0,
           1
          ],
          [
           8,
           410,
           39,
           253,
           54,
           20,
           3,
           1
          ],
          [
           6.7,
           747,
           71,
           287,
           131,
           23,
           2,
           22
          ],
          [
           6.8,
           579,
           300,
           162,
           164,
           15,
           6,
           20
          ],
          [
           6.3,
           788,
           111,
           324,
           146,
           36,
           3,
           7
          ],
          [
           6.4,
           829,
           119,
           247,
           147,
           27,
           1,
           16
          ],
          [
           7.2,
           526,
           107,
           299,
           112,
           40,
           3,
           4
          ],
          [
           8,
           419,
           96,
           161,
           70,
           15,
           1,
           10
          ],
          [
           6.5,
           534,
           428,
           198,
           125,
           46,
           5,
           26
          ],
          [
           6,
           852,
           103,
           408,
           140,
           38,
           0,
           8
          ],
          [
           7.7,
           370,
           206,
           163,
           106,
           17,
           3,
           19
          ],
          [
           7.1,
           675,
           107,
           167,
           133,
           25,
           2,
           17
          ],
          [
           8,
           441,
           52,
           191,
           56,
           31,
           6,
           3
          ],
          [
           8.3,
           325,
           101,
           164,
           37,
           37,
           1,
           4
          ],
          [
           7.8,
           180,
           224,
           333,
           53,
           41,
           0,
           3
          ],
          [
           7.1,
           574,
           200,
           155,
           131,
           31,
           4,
           22
          ],
          [
           7.5,
           309,
           126,
           431,
           37,
           43,
           0,
           11
          ],
          [
           7.8,
           438,
           109,
           167,
           103,
           33,
           2,
           4
          ],
          [
           5.5,
           949,
           267,
           236,
           192,
           27,
           9,
           44
          ],
          [
           8.2,
           143,
           176,
           299,
           44,
           27,
           0,
           0
          ],
          [
           7.1,
           545,
           215,
           182,
           111,
           39,
           2,
           19
          ],
          [
           6.9,
           614,
           154,
           264,
           121,
           24,
           1,
           7
          ],
          [
           7.6,
           574,
           111,
           100,
           100,
           17,
           3,
           22
          ],
          [
           6.7,
           677,
           93,
           286,
           161,
           40,
           3,
           12
          ],
          [
           8.4,
           283,
           136,
           114,
           41,
           21,
           0,
           9
          ],
          [
           8.3,
           215,
           141,
           201,
           81,
           23,
           0,
           3
          ],
          [
           8.7,
           160,
           108,
           184,
           33,
           12,
           0,
           3
          ],
          [
           8.4,
           203,
           169,
           164,
           36,
           23,
           1,
           1
          ],
          [
           7.3,
           567,
           93,
           232,
           112,
           39,
           3,
           3
          ],
          [
           7.3,
           737,
           100,
           106,
           79,
           9,
           3,
           12
          ],
          [
           0,
           2342,
           150,
           693,
           556,
           81,
           10,
           24
          ],
          [
           7.4,
           533,
           82,
           275,
           58,
           33,
           4,
           4
          ],
          [
           7.2,
           612,
           69,
           250,
           93,
           29,
           3,
           5
          ],
          [
           7.6,
           454,
           115,
           267,
           59,
           36,
           2,
           1
          ],
          [
           7.3,
           295,
           222,
           355,
           119,
           54,
           2,
           5
          ],
          [
           8.5,
           267,
           93,
           121,
           69,
           26,
           2,
           6
          ],
          [
           7.7,
           446,
           98,
           231,
           88,
           15,
           2,
           6
          ],
          [
           8.3,
           206,
           159,
           202,
           42,
           29,
           0,
           1
          ],
          [
           7,
           544,
           159,
           250,
           140,
           35,
           2,
           10
          ],
          [
           6.8,
           842,
           114,
           163,
           48,
           41,
           2,
           5
          ]
         ],
         "featureidkey": "properties.AREA_LONG_CODE",
         "geo": "geo",
         "geojson": "https://raw.githubusercontent.com/Miniongolf/TorontoCrimeRateMap/689129f87a8c993feb9a4ce507010f5a7a51963e/neighbourhoodsCoords.geojson",
         "hovertemplate": "<b>%{hovertext}</b><br><br>HoodID=%{location}<br>Scores=%{z}<br>Assault_Total=%{customdata[1]}<br>AutoTheft_Total=%{customdata[2]}<br>BreakAndEnter_Total=%{customdata[3]}<br>Robbery_Total=%{customdata[4]}<br>TheftOver_Total=%{customdata[5]}<br>Homicide_Total=%{customdata[6]}<br>Shootings_Total=%{customdata[7]}<extra></extra>",
         "hovertext": [
          "Yonge-St.Clair",
          "York University Heights",
          "Lansing-Westgate",
          "Yorkdale-Glen Park",
          "Stonegate-Queensway",
          "Tam O'Shanter-Sullivan",
          "The Beaches",
          "Thistletown-Beaumond Heights",
          "Thorncliffe Park",
          "Danforth East York",
          "Humewood-Cedarvale",
          "Islington-City Centre West",
          "Danforth",
          "Rustic",
          "Scarborough Village",
          "South Parkdale",
          "South Riverdale",
          "St.Andrew-Windfields",
          "Taylor-Massey",
          "Humber Summit",
          "Humbermede",
          "Centennial Scarborough",
          "Church-Yonge Corridor",
          "Clairlea-Birchmount",
          "Cliffcrest",
          "Flemingdon Park",
          "Corso Italia-Davenport",
          "Ionview",
          "Junction Area",
          "Broadview North",
          "Princess-Rosethorn",
          "North Riverdale",
          "Etobicoke West Mall",
          "Forest Hill North",
          "Glenfield-Jane Heights",
          "Greenwood-Coxwell",
          "Guildwood",
          "Trinity-Bellwoods",
          "Victoria Village",
          "Waterfront Communities-The Island",
          "West Hill",
          "West Humber-Clairville",
          "Westminster-Branson",
          "Kennedy Park",
          "Kingsview Village-The Westway",
          "Bayview Woods-Steeles",
          "Clanton Park",
          "Keelesdale-Eglinton West",
          "O'Connor-Parkview",
          "Old East York",
          "Casa Loma",
          "Kensington-Chinatown",
          "Kingsway South",
          "Runnymede-Bloor West Village",
          "Forest Hill South",
          "Henry Farm",
          "Annex",
          "Caledonia-Fairbank",
          "Humber Heights-Westmount",
          "Roncesvalles",
          "University",
          "Hillcrest Village",
          "Mount Dennis",
          "Dorset Park",
          "Edenbridge-Humber Valley",
          "Dovercourt-Wallace Emerson-Junction",
          "Newtonbrook West",
          "Niagara",
          "Beechborough-Greenbrook",
          "High Park North",
          "High Park-Swansea",
          "Highland Creek",
          "North St.James Town",
          "Oakridge",
          "Rosedale-Moore Park",
          "Oakwood Village",
          "Wexford/Maryvale",
          "Eglinton East",
          "Elms-Old Rexdale",
          "Agincourt North",
          "Agincourt South-Malvern West",
          "Englemount-Lawrence",
          "Eringate-Centennial-West Deane",
          "L'Amoreaux",
          "Banbury-Don Mills",
          "Bathurst Manor",
          "Alderwood",
          "Regent Park",
          "Bendale",
          "Birchcliffe-Cliffside",
          "Weston-Pellam Park",
          "Downsview-Roding-CFB",
          "Lambton Baby Point",
          "Bay Street Corridor",
          "Black Creek",
          "Willowdale East",
          "Willowdale West",
          "Rouge",
          "Mount Olive-Silverstone-Jamestown",
          "Cabbagetown-South St.James Town",
          "Mount Pleasant East",
          "Mount Pleasant West",
          "Blake-Jones",
          "Rexdale-Kipling",
          "East End-Danforth",
          "New Toronto",
          "Palmerston-Little Italy",
          "Parkwoods-Donalda",
          "Pelmo Park-Humberlea",
          "Playter Estates-Danforth",
          "Willowridge-Martingrove-Richview",
          "Woburn",
          "Woodbine-Lumsden",
          "Bayview Village",
          "Bedford Park-Nortown",
          "Rockcliffe-Smythe",
          "Bridle Path-Sunnybrook-York Mills",
          "Don Valley Village",
          "Weston",
          "Lawrence Park South",
          "Brookhaven-Amesbury",
          "Long Branch",
          "Malvern",
          "Dufferin Grove",
          "Maple Leaf",
          "Markland Wood",
          "Steeles",
          "Lawrence Park North",
          "Yonge-Eglinton",
          "Morningside",
          "Moss Park",
          "Little Portugal",
          "Woodbine Corridor",
          "Newtonbrook East",
          "Milliken",
          "Pleasant View",
          "Wychwood",
          "Leaside-Bennington",
          "Briar Hill-Belgravia",
          "Mimico"
         ],
         "locations": [
          97,
          27,
          38,
          31,
          16,
          118,
          63,
          3,
          55,
          59,
          106,
          14,
          66,
          28,
          139,
          85,
          70,
          40,
          61,
          21,
          22,
          133,
          75,
          120,
          123,
          44,
          92,
          125,
          90,
          57,
          10,
          68,
          13,
          102,
          25,
          65,
          140,
          81,
          43,
          77,
          136,
          1,
          35,
          124,
          6,
          49,
          33,
          110,
          54,
          58,
          96,
          78,
          15,
          89,
          101,
          53,
          95,
          109,
          8,
          86,
          79,
          48,
          115,
          126,
          9,
          93,
          36,
          82,
          112,
          88,
          87,
          134,
          74,
          121,
          98,
          107,
          119,
          138,
          5,
          129,
          128,
          32,
          11,
          117,
          42,
          34,
          20,
          72,
          127,
          122,
          91,
          26,
          114,
          76,
          24,
          51,
          37,
          131,
          2,
          71,
          99,
          104,
          69,
          4,
          62,
          18,
          80,
          45,
          23,
          67,
          7,
          137,
          60,
          52,
          39,
          111,
          41,
          47,
          113,
          103,
          30,
          19,
          132,
          83,
          29,
          12,
          116,
          105,
          100,
          135,
          73,
          84,
          64,
          50,
          130,
          46,
          94,
          56,
          108,
          17
         ],
         "name": "",
         "type": "choropleth",
         "z": [
          8.7,
          3.9,
          7.6,
          4.3,
          8.1,
          8,
          7.8,
          7,
          8.1,
          8.3,
          8.2,
          7,
          5.5,
          7.1,
          6.3,
          6.1,
          6,
          7.7,
          7,
          4,
          6.1,
          8.5,
          1.5,
          6.1,
          6.9,
          7.8,
          7.2,
          7.4,
          6.6,
          8.1,
          8.1,
          7.4,
          8.1,
          7.9,
          6.1,
          6.7,
          8.3,
          6.6,
          7.4,
          5.5,
          4.8,
          3.1,
          8.2,
          5.3,
          7.5,
          8.3,
          7.3,
          7.1,
          6.9,
          7.7,
          8,
          1.1,
          7.7,
          7.6,
          8.1,
          8.2,
          5.7,
          7.6,
          8,
          6.4,
          2.3,
          8,
          7.1,
          6.6,
          8.4,
          6.8,
          7,
          7.2,
          6,
          7.9,
          8.2,
          7.8,
          6,
          5.1,
          7.1,
          7.5,
          6.2,
          6.6,
          7,
          8.4,
          7.2,
          7.8,
          8.2,
          8.3,
          8.3,
          7.9,
          8.1,
          5.4,
          6.6,
          6.9,
          6.8,
          5.3,
          8.3,
          0.9,
          5.6,
          8.3,
          7.8,
          8.1,
          6.8,
          5.3,
          8.6,
          8,
          6.7,
          6.8,
          6.3,
          6.4,
          7.2,
          8,
          6.5,
          6,
          7.7,
          7.1,
          8,
          8.3,
          7.8,
          7.1,
          7.5,
          7.8,
          5.5,
          8.2,
          7.1,
          6.9,
          7.6,
          6.7,
          8.4,
          8.3,
          8.7,
          8.4,
          7.3,
          7.3,
          0,
          7.4,
          7.2,
          7.6,
          7.3,
          8.5,
          7.7,
          8.3,
          7,
          6.8
         ]
        }
       ],
       "layout": {
        "coloraxis": {
         "colorbar": {
          "title": {
           "text": "Scores"
          }
         },
         "colorscale": [
          [
           0,
           "#000004"
          ],
          [
           0.1111111111111111,
           "#1b0c41"
          ],
          [
           0.2222222222222222,
           "#4a0c6b"
          ],
          [
           0.3333333333333333,
           "#781c6d"
          ],
          [
           0.4444444444444444,
           "#a52c60"
          ],
          [
           0.5555555555555556,
           "#cf4446"
          ],
          [
           0.6666666666666666,
           "#ed6925"
          ],
          [
           0.7777777777777778,
           "#fb9b06"
          ],
          [
           0.8888888888888888,
           "#f7d13d"
          ],
          [
           1,
           "#fcffa4"
          ]
         ]
        },
        "geo": {
         "center": {},
         "domain": {
          "x": [
           0,
           1
          ],
          "y": [
           0,
           1
          ]
         },
         "fitbounds": "locations",
         "visible": false
        },
        "height": 650,
        "legend": {
         "tracegroupgap": 0
        },
        "template": {
         "data": {
          "bar": [
           {
            "error_x": {
             "color": "#2a3f5f"
            },
            "error_y": {
             "color": "#2a3f5f"
            },
            "marker": {
             "line": {
              "color": "#E5ECF6",
              "width": 0.5
             },
             "pattern": {
              "fillmode": "overlay",
              "size": 10,
              "solidity": 0.2
             }
            },
            "type": "bar"
           }
          ],
          "barpolar": [
           {
            "marker": {
             "line": {
              "color": "#E5ECF6",
              "width": 0.5
             },
             "pattern": {
              "fillmode": "overlay",
              "size": 10,
              "solidity": 0.2
             }
            },
            "type": "barpolar"
           }
          ],
          "carpet": [
           {
            "aaxis": {
             "endlinecolor": "#2a3f5f",
             "gridcolor": "white",
             "linecolor": "white",
             "minorgridcolor": "white",
             "startlinecolor": "#2a3f5f"
            },
            "baxis": {
             "endlinecolor": "#2a3f5f",
             "gridcolor": "white",
             "linecolor": "white",
             "minorgridcolor": "white",
             "startlinecolor": "#2a3f5f"
            },
            "type": "carpet"
           }
          ],
          "choropleth": [
           {
            "colorbar": {
             "outlinewidth": 0,
             "ticks": ""
            },
            "type": "choropleth"
           }
          ],
          "contour": [
           {
            "colorbar": {
             "outlinewidth": 0,
             "ticks": ""
            },
            "colorscale": [
             [
              0,
              "#0d0887"
             ],
             [
              0.1111111111111111,
              "#46039f"
             ],
             [
              0.2222222222222222,
              "#7201a8"
             ],
             [
              0.3333333333333333,
              "#9c179e"
             ],
             [
              0.4444444444444444,
              "#bd3786"
             ],
             [
              0.5555555555555556,
              "#d8576b"
             ],
             [
              0.6666666666666666,
              "#ed7953"
             ],
             [
              0.7777777777777778,
              "#fb9f3a"
             ],
             [
              0.8888888888888888,
              "#fdca26"
             ],
             [
              1,
              "#f0f921"
             ]
            ],
            "type": "contour"
           }
          ],
          "contourcarpet": [
           {
            "colorbar": {
             "outlinewidth": 0,
             "ticks": ""
            },
            "type": "contourcarpet"
           }
          ],
          "heatmap": [
           {
            "colorbar": {
             "outlinewidth": 0,
             "ticks": ""
            },
            "colorscale": [
             [
              0,
              "#0d0887"
             ],
             [
              0.1111111111111111,
              "#46039f"
             ],
             [
              0.2222222222222222,
              "#7201a8"
             ],
             [
              0.3333333333333333,
              "#9c179e"
             ],
             [
              0.4444444444444444,
              "#bd3786"
             ],
             [
              0.5555555555555556,
              "#d8576b"
             ],
             [
              0.6666666666666666,
              "#ed7953"
             ],
             [
              0.7777777777777778,
              "#fb9f3a"
             ],
             [
              0.8888888888888888,
              "#fdca26"
             ],
             [
              1,
              "#f0f921"
             ]
            ],
            "type": "heatmap"
           }
          ],
          "heatmapgl": [
           {
            "colorbar": {
             "outlinewidth": 0,
             "ticks": ""
            },
            "colorscale": [
             [
              0,
              "#0d0887"
             ],
             [
              0.1111111111111111,
              "#46039f"
             ],
             [
              0.2222222222222222,
              "#7201a8"
             ],
             [
              0.3333333333333333,
              "#9c179e"
             ],
             [
              0.4444444444444444,
              "#bd3786"
             ],
             [
              0.5555555555555556,
              "#d8576b"
             ],
             [
              0.6666666666666666,
              "#ed7953"
             ],
             [
              0.7777777777777778,
              "#fb9f3a"
             ],
             [
              0.8888888888888888,
              "#fdca26"
             ],
             [
              1,
              "#f0f921"
             ]
            ],
            "type": "heatmapgl"
           }
          ],
          "histogram": [
           {
            "marker": {
             "pattern": {
              "fillmode": "overlay",
              "size": 10,
              "solidity": 0.2
             }
            },
            "type": "histogram"
           }
          ],
          "histogram2d": [
           {
            "colorbar": {
             "outlinewidth": 0,
             "ticks": ""
            },
            "colorscale": [
             [
              0,
              "#0d0887"
             ],
             [
              0.1111111111111111,
              "#46039f"
             ],
             [
              0.2222222222222222,
              "#7201a8"
             ],
             [
              0.3333333333333333,
              "#9c179e"
             ],
             [
              0.4444444444444444,
              "#bd3786"
             ],
             [
              0.5555555555555556,
              "#d8576b"
             ],
             [
              0.6666666666666666,
              "#ed7953"
             ],
             [
              0.7777777777777778,
              "#fb9f3a"
             ],
             [
              0.8888888888888888,
              "#fdca26"
             ],
             [
              1,
              "#f0f921"
             ]
            ],
            "type": "histogram2d"
           }
          ],
          "histogram2dcontour": [
           {
            "colorbar": {
             "outlinewidth": 0,
             "ticks": ""
            },
            "colorscale": [
             [
              0,
              "#0d0887"
             ],
             [
              0.1111111111111111,
              "#46039f"
             ],
             [
              0.2222222222222222,
              "#7201a8"
             ],
             [
              0.3333333333333333,
              "#9c179e"
             ],
             [
              0.4444444444444444,
              "#bd3786"
             ],
             [
              0.5555555555555556,
              "#d8576b"
             ],
             [
              0.6666666666666666,
              "#ed7953"
             ],
             [
              0.7777777777777778,
              "#fb9f3a"
             ],
             [
              0.8888888888888888,
              "#fdca26"
             ],
             [
              1,
              "#f0f921"
             ]
            ],
            "type": "histogram2dcontour"
           }
          ],
          "mesh3d": [
           {
            "colorbar": {
             "outlinewidth": 0,
             "ticks": ""
            },
            "type": "mesh3d"
           }
          ],
          "parcoords": [
           {
            "line": {
             "colorbar": {
              "outlinewidth": 0,
              "ticks": ""
             }
            },
            "type": "parcoords"
           }
          ],
          "pie": [
           {
            "automargin": true,
            "type": "pie"
           }
          ],
          "scatter": [
           {
            "fillpattern": {
             "fillmode": "overlay",
             "size": 10,
             "solidity": 0.2
            },
            "type": "scatter"
           }
          ],
          "scatter3d": [
           {
            "line": {
             "colorbar": {
              "outlinewidth": 0,
              "ticks": ""
             }
            },
            "marker": {
             "colorbar": {
              "outlinewidth": 0,
              "ticks": ""
             }
            },
            "type": "scatter3d"
           }
          ],
          "scattercarpet": [
           {
            "marker": {
             "colorbar": {
              "outlinewidth": 0,
              "ticks": ""
             }
            },
            "type": "scattercarpet"
           }
          ],
          "scattergeo": [
           {
            "marker": {
             "colorbar": {
              "outlinewidth": 0,
              "ticks": ""
             }
            },
            "type": "scattergeo"
           }
          ],
          "scattergl": [
           {
            "marker": {
             "colorbar": {
              "outlinewidth": 0,
              "ticks": ""
             }
            },
            "type": "scattergl"
           }
          ],
          "scattermapbox": [
           {
            "marker": {
             "colorbar": {
              "outlinewidth": 0,
              "ticks": ""
             }
            },
            "type": "scattermapbox"
           }
          ],
          "scatterpolar": [
           {
            "marker": {
             "colorbar": {
              "outlinewidth": 0,
              "ticks": ""
             }
            },
            "type": "scatterpolar"
           }
          ],
          "scatterpolargl": [
           {
            "marker": {
             "colorbar": {
              "outlinewidth": 0,
              "ticks": ""
             }
            },
            "type": "scatterpolargl"
           }
          ],
          "scatterternary": [
           {
            "marker": {
             "colorbar": {
              "outlinewidth": 0,
              "ticks": ""
             }
            },
            "type": "scatterternary"
           }
          ],
          "surface": [
           {
            "colorbar": {
             "outlinewidth": 0,
             "ticks": ""
            },
            "colorscale": [
             [
              0,
              "#0d0887"
             ],
             [
              0.1111111111111111,
              "#46039f"
             ],
             [
              0.2222222222222222,
              "#7201a8"
             ],
             [
              0.3333333333333333,
              "#9c179e"
             ],
             [
              0.4444444444444444,
              "#bd3786"
             ],
             [
              0.5555555555555556,
              "#d8576b"
             ],
             [
              0.6666666666666666,
              "#ed7953"
             ],
             [
              0.7777777777777778,
              "#fb9f3a"
             ],
             [
              0.8888888888888888,
              "#fdca26"
             ],
             [
              1,
              "#f0f921"
             ]
            ],
            "type": "surface"
           }
          ],
          "table": [
           {
            "cells": {
             "fill": {
              "color": "#EBF0F8"
             },
             "line": {
              "color": "white"
             }
            },
            "header": {
             "fill": {
              "color": "#C8D4E3"
             },
             "line": {
              "color": "white"
             }
            },
            "type": "table"
           }
          ]
         },
         "layout": {
          "annotationdefaults": {
           "arrowcolor": "#2a3f5f",
           "arrowhead": 0,
           "arrowwidth": 1
          },
          "autotypenumbers": "strict",
          "coloraxis": {
           "colorbar": {
            "outlinewidth": 0,
            "ticks": ""
           }
          },
          "colorscale": {
           "diverging": [
            [
             0,
             "#8e0152"
            ],
            [
             0.1,
             "#c51b7d"
            ],
            [
             0.2,
             "#de77ae"
            ],
            [
             0.3,
             "#f1b6da"
            ],
            [
             0.4,
             "#fde0ef"
            ],
            [
             0.5,
             "#f7f7f7"
            ],
            [
             0.6,
             "#e6f5d0"
            ],
            [
             0.7,
             "#b8e186"
            ],
            [
             0.8,
             "#7fbc41"
            ],
            [
             0.9,
             "#4d9221"
            ],
            [
             1,
             "#276419"
            ]
           ],
           "sequential": [
            [
             0,
             "#0d0887"
            ],
            [
             0.1111111111111111,
             "#46039f"
            ],
            [
             0.2222222222222222,
             "#7201a8"
            ],
            [
             0.3333333333333333,
             "#9c179e"
            ],
            [
             0.4444444444444444,
             "#bd3786"
            ],
            [
             0.5555555555555556,
             "#d8576b"
            ],
            [
             0.6666666666666666,
             "#ed7953"
            ],
            [
             0.7777777777777778,
             "#fb9f3a"
            ],
            [
             0.8888888888888888,
             "#fdca26"
            ],
            [
             1,
             "#f0f921"
            ]
           ],
           "sequentialminus": [
            [
             0,
             "#0d0887"
            ],
            [
             0.1111111111111111,
             "#46039f"
            ],
            [
             0.2222222222222222,
             "#7201a8"
            ],
            [
             0.3333333333333333,
             "#9c179e"
            ],
            [
             0.4444444444444444,
             "#bd3786"
            ],
            [
             0.5555555555555556,
             "#d8576b"
            ],
            [
             0.6666666666666666,
             "#ed7953"
            ],
            [
             0.7777777777777778,
             "#fb9f3a"
            ],
            [
             0.8888888888888888,
             "#fdca26"
            ],
            [
             1,
             "#f0f921"
            ]
           ]
          },
          "colorway": [
           "#636efa",
           "#EF553B",
           "#00cc96",
           "#ab63fa",
           "#FFA15A",
           "#19d3f3",
           "#FF6692",
           "#B6E880",
           "#FF97FF",
           "#FECB52"
          ],
          "font": {
           "color": "#2a3f5f"
          },
          "geo": {
           "bgcolor": "white",
           "lakecolor": "white",
           "landcolor": "#E5ECF6",
           "showlakes": true,
           "showland": true,
           "subunitcolor": "white"
          },
          "hoverlabel": {
           "align": "left"
          },
          "hovermode": "closest",
          "mapbox": {
           "style": "light"
          },
          "paper_bgcolor": "white",
          "plot_bgcolor": "#E5ECF6",
          "polar": {
           "angularaxis": {
            "gridcolor": "white",
            "linecolor": "white",
            "ticks": ""
           },
           "bgcolor": "#E5ECF6",
           "radialaxis": {
            "gridcolor": "white",
            "linecolor": "white",
            "ticks": ""
           }
          },
          "scene": {
           "xaxis": {
            "backgroundcolor": "#E5ECF6",
            "gridcolor": "white",
            "gridwidth": 2,
            "linecolor": "white",
            "showbackground": true,
            "ticks": "",
            "zerolinecolor": "white"
           },
           "yaxis": {
            "backgroundcolor": "#E5ECF6",
            "gridcolor": "white",
            "gridwidth": 2,
            "linecolor": "white",
            "showbackground": true,
            "ticks": "",
            "zerolinecolor": "white"
           },
           "zaxis": {
            "backgroundcolor": "#E5ECF6",
            "gridcolor": "white",
            "gridwidth": 2,
            "linecolor": "white",
            "showbackground": true,
            "ticks": "",
            "zerolinecolor": "white"
           }
          },
          "shapedefaults": {
           "line": {
            "color": "#2a3f5f"
           }
          },
          "ternary": {
           "aaxis": {
            "gridcolor": "white",
            "linecolor": "white",
            "ticks": ""
           },
           "baxis": {
            "gridcolor": "white",
            "linecolor": "white",
            "ticks": ""
           },
           "bgcolor": "#E5ECF6",
           "caxis": {
            "gridcolor": "white",
            "linecolor": "white",
            "ticks": ""
           }
          },
          "title": {
           "x": 0.05
          },
          "xaxis": {
           "automargin": true,
           "gridcolor": "white",
           "linecolor": "white",
           "ticks": "",
           "title": {
            "standoff": 15
           },
           "zerolinecolor": "white",
           "zerolinewidth": 2
          },
          "yaxis": {
           "automargin": true,
           "gridcolor": "white",
           "linecolor": "white",
           "ticks": "",
           "title": {
            "standoff": 15
           },
           "zerolinecolor": "white",
           "zerolinewidth": 2
          }
         }
        },
        "title": {
         "text": "Crime Rates in Toronto"
        }
       }
      }
     },
     "metadata": {},
     "output_type": "display_data"
    }
   ],
   "source": [
    "# Create the choropleth map with plotly.express\n",
    "\n",
    "fig = px.choropleth(\n",
    "  crime_stats, # Selects the dataframe to use as a dataset\n",
    "  geojson = \"https://raw.githubusercontent.com/Miniongolf/TorontoCrimeRateMap/689129f87a8c993feb9a4ce507010f5a7a51963e/neighbourhoodsCoords.geojson\", # Selects the geojson file used (from a raw github link)\n",
    "  featureidkey=\"properties.AREA_LONG_CODE\",\n",
    "  locations=\"HoodID\",\n",
    "  color='Scores',\n",
    "  color_continuous_scale=\"inferno\",\n",
    "  hover_name=\"HoodName\",\n",
    "  hover_data=[\"Scores\"] + [f\"{crime}_Total\" for crime in selectedCrimes],\n",
    "  title='Crime Rates in Toronto',\n",
    "  height = 650\n",
    ")\n",
    "\n",
    "# Show the map\n",
    "fig.update_geos(fitbounds=\"locations\", visible=False)\n",
    "fig"
   ]
  }
 ],
 "metadata": {
  "kernelspec": {
   "display_name": "Python 3.10.7 64-bit",
   "language": "python",
   "name": "python3"
  },
  "language_info": {
   "codemirror_mode": {
    "name": "ipython",
    "version": 3
   },
   "file_extension": ".py",
   "mimetype": "text/x-python",
   "name": "python",
   "nbconvert_exporter": "python",
   "pygments_lexer": "ipython3",
   "version": "3.10.7"
  },
  "orig_nbformat": 4,
  "vscode": {
   "interpreter": {
    "hash": "aee8b7b246df8f9039afb4144a1f6fd8d2ca17a180786b69acc140d282b71a49"
   }
  }
 },
 "nbformat": 4,
 "nbformat_minor": 2
}
